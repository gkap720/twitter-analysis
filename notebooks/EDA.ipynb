{
 "cells": [
  {
   "cell_type": "code",
   "execution_count": 6,
   "id": "208bc581",
   "metadata": {},
   "outputs": [],
   "source": [
    "import pandas as pd\n",
    "import numpy as np\n",
    "import matplotlib.pyplot as plt\n",
    "import random"
   ]
  },
  {
   "cell_type": "code",
   "execution_count": 89,
   "id": "24ca291b",
   "metadata": {},
   "outputs": [
    {
     "data": {
      "text/html": [
       "<div>\n",
       "<style scoped>\n",
       "    .dataframe tbody tr th:only-of-type {\n",
       "        vertical-align: middle;\n",
       "    }\n",
       "\n",
       "    .dataframe tbody tr th {\n",
       "        vertical-align: top;\n",
       "    }\n",
       "\n",
       "    .dataframe thead th {\n",
       "        text-align: right;\n",
       "    }\n",
       "</style>\n",
       "<table border=\"1\" class=\"dataframe\">\n",
       "  <thead>\n",
       "    <tr style=\"text-align: right;\">\n",
       "      <th></th>\n",
       "      <th>0</th>\n",
       "      <th>1</th>\n",
       "      <th>2</th>\n",
       "      <th>3</th>\n",
       "      <th>4</th>\n",
       "      <th>5</th>\n",
       "    </tr>\n",
       "  </thead>\n",
       "  <tbody>\n",
       "    <tr>\n",
       "      <th>0</th>\n",
       "      <td>0</td>\n",
       "      <td>1467810369</td>\n",
       "      <td>Mon Apr 06 22:19:45 PDT 2009</td>\n",
       "      <td>NO_QUERY</td>\n",
       "      <td>_TheSpecialOne_</td>\n",
       "      <td>@switchfoot http://twitpic.com/2y1zl - Awww, t...</td>\n",
       "    </tr>\n",
       "    <tr>\n",
       "      <th>1</th>\n",
       "      <td>0</td>\n",
       "      <td>1467810917</td>\n",
       "      <td>Mon Apr 06 22:19:53 PDT 2009</td>\n",
       "      <td>NO_QUERY</td>\n",
       "      <td>mattycus</td>\n",
       "      <td>@Kenichan I dived many times for the ball. Man...</td>\n",
       "    </tr>\n",
       "    <tr>\n",
       "      <th>2</th>\n",
       "      <td>0</td>\n",
       "      <td>1467812025</td>\n",
       "      <td>Mon Apr 06 22:20:09 PDT 2009</td>\n",
       "      <td>NO_QUERY</td>\n",
       "      <td>mimismo</td>\n",
       "      <td>@twittera que me muera ?</td>\n",
       "    </tr>\n",
       "    <tr>\n",
       "      <th>3</th>\n",
       "      <td>0</td>\n",
       "      <td>1467812579</td>\n",
       "      <td>Mon Apr 06 22:20:17 PDT 2009</td>\n",
       "      <td>NO_QUERY</td>\n",
       "      <td>pardonlauren</td>\n",
       "      <td>I just re-pierced my ears</td>\n",
       "    </tr>\n",
       "    <tr>\n",
       "      <th>4</th>\n",
       "      <td>0</td>\n",
       "      <td>1467813782</td>\n",
       "      <td>Mon Apr 06 22:20:34 PDT 2009</td>\n",
       "      <td>NO_QUERY</td>\n",
       "      <td>gi_gi_bee</td>\n",
       "      <td>@FakerPattyPattz Oh dear. Were you drinking ou...</td>\n",
       "    </tr>\n",
       "  </tbody>\n",
       "</table>\n",
       "</div>"
      ],
      "text/plain": [
       "   0           1                             2         3                4  \\\n",
       "0  0  1467810369  Mon Apr 06 22:19:45 PDT 2009  NO_QUERY  _TheSpecialOne_   \n",
       "1  0  1467810917  Mon Apr 06 22:19:53 PDT 2009  NO_QUERY         mattycus   \n",
       "2  0  1467812025  Mon Apr 06 22:20:09 PDT 2009  NO_QUERY          mimismo   \n",
       "3  0  1467812579  Mon Apr 06 22:20:17 PDT 2009  NO_QUERY     pardonlauren   \n",
       "4  0  1467813782  Mon Apr 06 22:20:34 PDT 2009  NO_QUERY        gi_gi_bee   \n",
       "\n",
       "                                                   5  \n",
       "0  @switchfoot http://twitpic.com/2y1zl - Awww, t...  \n",
       "1  @Kenichan I dived many times for the ball. Man...  \n",
       "2                          @twittera que me muera ?   \n",
       "3                         I just re-pierced my ears   \n",
       "4  @FakerPattyPattz Oh dear. Were you drinking ou...  "
      ]
     },
     "execution_count": 89,
     "metadata": {},
     "output_type": "execute_result"
    }
   ],
   "source": [
    "p = 0.2\n",
    "df = pd.read_csv(\n",
    "    \"../data/training.1600000.processed.noemoticon.csv\", \n",
    "    header=None, encoding=\"ISO-8859-1\", dtype=str, skiprows=lambda i: i>0 and random.random() > p)\n",
    "df.head()"
   ]
  },
  {
   "cell_type": "code",
   "execution_count": 90,
   "id": "020cb28c",
   "metadata": {},
   "outputs": [
    {
     "data": {
      "text/plain": [
       "(319443, 6)"
      ]
     },
     "execution_count": 90,
     "metadata": {},
     "output_type": "execute_result"
    }
   ],
   "source": [
    "df.shape"
   ]
  },
  {
   "cell_type": "markdown",
   "id": "59b5316a",
   "metadata": {},
   "source": [
    "Tweet length is more or less normally distributed."
   ]
  },
  {
   "cell_type": "code",
   "execution_count": 4,
   "id": "70271120",
   "metadata": {},
   "outputs": [
    {
     "data": {
      "image/png": "[encoded data removed]",
      "text/plain": [
       "<Figure size 432x288 with 1 Axes>"
      ]
     },
     "metadata": {
      "needs_background": "light"
     },
     "output_type": "display_data"
    }
   ],
   "source": [
    "df.iloc[:, 5].map(lambda x: len(x)).hist(bins=20);"
   ]
  },
  {
   "cell_type": "code",
   "execution_count": 5,
   "id": "2efee5c3",
   "metadata": {},
   "outputs": [
    {
     "data": {
      "text/plain": [
       "count    80235.000000\n",
       "mean        74.028304\n",
       "std         36.446628\n",
       "min          7.000000\n",
       "25%         44.000000\n",
       "50%         69.000000\n",
       "75%        104.000000\n",
       "max        313.000000\n",
       "Name: 5, dtype: float64"
      ]
     },
     "execution_count": 5,
     "metadata": {},
     "output_type": "execute_result"
    }
   ],
   "source": [
    "df.iloc[:, 5].map(lambda x: len(x)).describe()"
   ]
  },
  {
   "cell_type": "markdown",
   "id": "d11f88eb",
   "metadata": {},
   "source": [
    "We would expect tweets to fall under the 140 char limit. The outliers could be including URLs as text. We will probably need to remove URLs before modeling."
   ]
  },
  {
   "cell_type": "code",
   "execution_count": 6,
   "id": "baf3a6eb",
   "metadata": {},
   "outputs": [
    {
     "data": {
      "image/png": "[encoded data removed]",
      "text/plain": [
       "<Figure size 432x288 with 1 Axes>"
      ]
     },
     "metadata": {
      "needs_background": "light"
     },
     "output_type": "display_data"
    }
   ],
   "source": [
    "df[0].hist();"
   ]
  },
  {
   "cell_type": "markdown",
   "id": "a0be01f4",
   "metadata": {},
   "source": [
    "Luckily the classes in the dataset are perfectly balanced so we don't need to perform any balancing during the modeling steps."
   ]
  },
  {
   "cell_type": "markdown",
   "id": "bb9dceda",
   "metadata": {},
   "source": [
    "## Processing"
   ]
  },
  {
   "cell_type": "markdown",
   "id": "f7375f0f",
   "metadata": {},
   "source": [
    "### Removing URLs"
   ]
  },
  {
   "cell_type": "code",
   "execution_count": 4,
   "id": "8f0f281f",
   "metadata": {},
   "outputs": [
    {
     "name": "stderr",
     "output_type": "stream",
     "text": [
      "/tmp/ipykernel_17685/1163221978.py:1: FutureWarning: The default value of regex will change from True to False in a future version.\n",
      "  df[5] = df[5].str.replace(r'https?://\\S+', \"\")\n"
     ]
    }
   ],
   "source": [
    "df[5] = df[5].str.replace(r'https?://\\S+', \"\")"
   ]
  },
  {
   "cell_type": "markdown",
   "id": "00b7abd1",
   "metadata": {},
   "source": [
    "### Removing special characters"
   ]
  },
  {
   "cell_type": "code",
   "execution_count": 5,
   "id": "76cf6a02",
   "metadata": {},
   "outputs": [],
   "source": [
    "df[5] = df[5].str.extractall(r'([A-Za-z]+)').groupby(level=0).agg(\" \".join)"
   ]
  },
  {
   "cell_type": "markdown",
   "id": "62e6c4eb",
   "metadata": {},
   "source": [
    "### Enforce lowercase"
   ]
  },
  {
   "cell_type": "code",
   "execution_count": 6,
   "id": "5e1e96bb",
   "metadata": {},
   "outputs": [],
   "source": [
    "df[5] = df[5].str.lower()"
   ]
  },
  {
   "cell_type": "markdown",
   "id": "c7f79018",
   "metadata": {},
   "source": [
    "### Tokenize"
   ]
  },
  {
   "cell_type": "code",
   "execution_count": 14,
   "id": "9bed2885",
   "metadata": {},
   "outputs": [],
   "source": [
    "from nltk import word_tokenize\n",
    "tokenized = df[5].map(lambda x: word_tokenize(x))"
   ]
  },
  {
   "cell_type": "markdown",
   "id": "7f87bd47",
   "metadata": {},
   "source": [
    "### Lemmatize"
   ]
  },
  {
   "cell_type": "code",
   "execution_count": 16,
   "id": "e3e778b8",
   "metadata": {},
   "outputs": [],
   "source": [
    "from nltk import WordNetLemmatizer\n",
    "lemmatizer = WordNetLemmatizer()\n",
    "lemmatized = [[lemmatizer.lemmatize(word) for word in sentence] for sentence in tokenized]"
   ]
  },
  {
   "cell_type": "markdown",
   "id": "7fc5a701",
   "metadata": {},
   "source": [
    "### Remove stopwords"
   ]
  },
  {
   "cell_type": "code",
   "execution_count": 9,
   "id": "509bae17",
   "metadata": {},
   "outputs": [],
   "source": [
    "from nltk.corpus import stopwords"
   ]
  },
  {
   "cell_type": "code",
   "execution_count": 11,
   "id": "ebd24204",
   "metadata": {},
   "outputs": [],
   "source": [
    "stops = set(stopwords.words('english'))"
   ]
  },
  {
   "cell_type": "code",
   "execution_count": 17,
   "id": "14263206",
   "metadata": {},
   "outputs": [],
   "source": [
    "processed = [[word for word in sentence if word not in stops] for sentence in lemmatized]"
   ]
  },
  {
   "cell_type": "markdown",
   "id": "964df39f",
   "metadata": {},
   "source": [
    "Create function for re-use in a pipeline"
   ]
  },
  {
   "cell_type": "code",
   "execution_count": 8,
   "id": "e9ae5e67",
   "metadata": {},
   "outputs": [],
   "source": [
    "import re\n",
    "from nltk import WordNetLemmatizer\n",
    "from nltk.corpus import stopwords\n",
    "from nltk import word_tokenize\n",
    "\n",
    "stops = set(stopwords.words('english'))\n",
    "lemmatizer = WordNetLemmatizer()\n",
    "\n",
    "def process_text(sentence: str):\n",
    "    sentence = re.sub(r'https?://\\S+', \"\", sentence)\n",
    "    sentence = re.sub(r'[^A-Za-z ]', \"\", sentence)\n",
    "    sentence = sentence.lower()\n",
    "    tokenized = word_tokenize(sentence)\n",
    "    lemmatized = [lemmatizer.lemmatize(word) for word in tokenized]\n",
    "    lemmatized = [lemmatizer.lemmatize(word, pos=\"v\") for word in lemmatized]\n",
    "    return lemmatized"
   ]
  },
  {
   "cell_type": "code",
   "execution_count": 91,
   "id": "894f92a3",
   "metadata": {},
   "outputs": [],
   "source": [
    "processed = df[5].map(process_text)"
   ]
  },
  {
   "cell_type": "markdown",
   "id": "e12ea66c",
   "metadata": {},
   "source": [
    "## Modeling"
   ]
  },
  {
   "cell_type": "markdown",
   "id": "53e854ec",
   "metadata": {},
   "source": [
    "Use pretrained Word2Vec to perform embedding on the tokenized texts. A model pre-trained on twitter data seems appropriate for this dataset."
   ]
  },
  {
   "cell_type": "code",
   "execution_count": 92,
   "id": "553c30b7",
   "metadata": {},
   "outputs": [],
   "source": [
    "import gensim.downloader as api\n",
    "word2vec_transfer = api.load(\"glove-twitter-50\")"
   ]
  },
  {
   "cell_type": "code",
   "execution_count": 93,
   "id": "8e47e694",
   "metadata": {},
   "outputs": [],
   "source": [
    "def create_embedding(tokenized: list, w2v):\n",
    "    output = []\n",
    "    for word in tokenized:\n",
    "        if word in w2v:\n",
    "            output.append(w2v.get_vector(word, norm=True))\n",
    "    return np.array(output)"
   ]
  },
  {
   "cell_type": "code",
   "execution_count": 94,
   "id": "ee4d86c0",
   "metadata": {},
   "outputs": [],
   "source": [
    "embedded = processed.map(lambda x: create_embedding(x, word2vec_transfer))"
   ]
  },
  {
   "cell_type": "code",
   "execution_count": 95,
   "id": "94a9f534",
   "metadata": {},
   "outputs": [],
   "source": [
    "del word2vec_transfer"
   ]
  },
  {
   "cell_type": "code",
   "execution_count": 14,
   "id": "6d01f6d7",
   "metadata": {},
   "outputs": [
    {
     "data": {
      "image/png": "[encoded data removed]",
      "text/plain": [
       "<Figure size 432x288 with 1 Axes>"
      ]
     },
     "metadata": {
      "needs_background": "light"
     },
     "output_type": "display_data"
    }
   ],
   "source": [
    "plt.hist([len(arr) for arr in embedded.values]);"
   ]
  },
  {
   "cell_type": "code",
   "execution_count": 96,
   "id": "1b0b1b94",
   "metadata": {},
   "outputs": [],
   "source": [
    "from tensorflow.keras.utils import pad_sequences"
   ]
  },
  {
   "cell_type": "code",
   "execution_count": 97,
   "id": "a7224402",
   "metadata": {},
   "outputs": [],
   "source": [
    "padded = pad_sequences(embedded.values, padding=\"post\", dtype=\"float32\")"
   ]
  },
  {
   "cell_type": "code",
   "execution_count": 98,
   "id": "ae759f63",
   "metadata": {},
   "outputs": [
    {
     "data": {
      "text/plain": [
       "(319443, 35, 50)"
      ]
     },
     "execution_count": 98,
     "metadata": {},
     "output_type": "execute_result"
    }
   ],
   "source": [
    "padded.shape"
   ]
  },
  {
   "cell_type": "code",
   "execution_count": 18,
   "id": "d52123be",
   "metadata": {},
   "outputs": [
    {
     "data": {
      "text/plain": [
       "dtype('float32')"
      ]
     },
     "execution_count": 18,
     "metadata": {},
     "output_type": "execute_result"
    }
   ],
   "source": [
    "padded.dtype"
   ]
  },
  {
   "cell_type": "code",
   "execution_count": 19,
   "id": "e2b79c05",
   "metadata": {},
   "outputs": [],
   "source": [
    "from tensorflow.keras import Sequential\n",
    "from tensorflow.keras import layers\n",
    "\n",
    "def init_model():\n",
    "    model = Sequential()\n",
    "    model.add(layers.Masking(mask_value=0.0, input_shape=(33, 50)))\n",
    "    model.add(layers.LSTM(20, activation='tanh'))\n",
    "    model.add(layers.Dense(15, activation='relu'))\n",
    "    model.add(layers.Dense(1, activation='sigmoid'))\n",
    "\n",
    "    model.compile(loss='binary_crossentropy',\n",
    "                  optimizer='adam',\n",
    "                  metrics=['accuracy'])\n",
    "    \n",
    "    return model"
   ]
  },
  {
   "cell_type": "code",
   "execution_count": 99,
   "id": "f72462be",
   "metadata": {},
   "outputs": [],
   "source": [
    "y = df[0].map({'0':0, '4':1})"
   ]
  },
  {
   "cell_type": "code",
   "execution_count": 100,
   "id": "63b033d1",
   "metadata": {},
   "outputs": [],
   "source": [
    "from sklearn.model_selection import train_test_split\n",
    "X_train, X_test, y_train, y_test = train_test_split(padded, y, test_size=0.3)"
   ]
  },
  {
   "cell_type": "code",
   "execution_count": 22,
   "id": "177bb3fa",
   "metadata": {},
   "outputs": [],
   "source": [
    "import tensorflow as tf"
   ]
  },
  {
   "cell_type": "code",
   "execution_count": 53,
   "id": "728ee867",
   "metadata": {
    "scrolled": true
   },
   "outputs": [
    {
     "name": "stdout",
     "output_type": "stream",
     "text": [
      "Epoch 1/100\n",
      "247/247 [==============================] - 15s 36ms/step - loss: 0.6562 - accuracy: 0.6167 - val_loss: 0.6142 - val_accuracy: 0.6698\n",
      "Epoch 2/100\n",
      "247/247 [==============================] - 8s 31ms/step - loss: 0.5878 - accuracy: 0.6925 - val_loss: 0.5897 - val_accuracy: 0.6887\n",
      "Epoch 3/100\n",
      "247/247 [==============================] - 8s 32ms/step - loss: 0.5694 - accuracy: 0.7057 - val_loss: 0.5752 - val_accuracy: 0.6979\n",
      "Epoch 4/100\n",
      "247/247 [==============================] - 8s 31ms/step - loss: 0.5603 - accuracy: 0.7122 - val_loss: 0.5751 - val_accuracy: 0.7002\n",
      "Epoch 5/100\n",
      "247/247 [==============================] - 7s 28ms/step - loss: 0.5531 - accuracy: 0.7158 - val_loss: 0.5703 - val_accuracy: 0.7056\n",
      "Epoch 6/100\n",
      "247/247 [==============================] - 7s 30ms/step - loss: 0.5471 - accuracy: 0.7180 - val_loss: 0.5620 - val_accuracy: 0.7085\n",
      "Epoch 7/100\n",
      "247/247 [==============================] - 7s 28ms/step - loss: 0.5437 - accuracy: 0.7149 - val_loss: 0.5607 - val_accuracy: 0.7091\n",
      "Epoch 8/100\n",
      "247/247 [==============================] - 8s 31ms/step - loss: 0.5399 - accuracy: 0.7227 - val_loss: 0.5589 - val_accuracy: 0.7097\n",
      "Epoch 9/100\n",
      "247/247 [==============================] - 10s 40ms/step - loss: 0.5337 - accuracy: 0.7247 - val_loss: 0.5568 - val_accuracy: 0.7094\n",
      "Epoch 10/100\n",
      "247/247 [==============================] - 8s 31ms/step - loss: 0.5300 - accuracy: 0.7281 - val_loss: 0.5802 - val_accuracy: 0.6994\n",
      "Epoch 11/100\n",
      "247/247 [==============================] - 7s 29ms/step - loss: 0.5299 - accuracy: 0.7281 - val_loss: 0.5543 - val_accuracy: 0.7147\n",
      "Epoch 12/100\n",
      "247/247 [==============================] - 7s 29ms/step - loss: 0.5239 - accuracy: 0.7367 - val_loss: 0.5575 - val_accuracy: 0.7135\n",
      "Epoch 13/100\n",
      "247/247 [==============================] - 7s 28ms/step - loss: 0.5206 - accuracy: 0.7391 - val_loss: 0.5555 - val_accuracy: 0.7147\n",
      "Epoch 14/100\n",
      "247/247 [==============================] - 8s 33ms/step - loss: 0.5147 - accuracy: 0.7451 - val_loss: 0.5567 - val_accuracy: 0.7171\n",
      "Epoch 15/100\n",
      "247/247 [==============================] - 8s 32ms/step - loss: 0.5119 - accuracy: 0.7477 - val_loss: 0.5612 - val_accuracy: 0.7135\n",
      "Epoch 16/100\n",
      "247/247 [==============================] - 9s 35ms/step - loss: 0.5098 - accuracy: 0.7427 - val_loss: 0.5488 - val_accuracy: 0.7168\n",
      "Epoch 17/100\n",
      "247/247 [==============================] - 8s 34ms/step - loss: 0.5061 - accuracy: 0.7457 - val_loss: 0.5520 - val_accuracy: 0.7126\n",
      "Epoch 18/100\n",
      "247/247 [==============================] - 8s 31ms/step - loss: 0.5006 - accuracy: 0.7537 - val_loss: 0.5690 - val_accuracy: 0.7147\n",
      "Epoch 19/100\n",
      "247/247 [==============================] - 7s 29ms/step - loss: 0.5001 - accuracy: 0.7522 - val_loss: 0.5518 - val_accuracy: 0.7180\n",
      "Epoch 20/100\n",
      "247/247 [==============================] - 7s 28ms/step - loss: 0.4907 - accuracy: 0.7600 - val_loss: 0.5645 - val_accuracy: 0.7138\n",
      "Epoch 21/100\n",
      "247/247 [==============================] - 8s 34ms/step - loss: 0.4894 - accuracy: 0.7629 - val_loss: 0.5550 - val_accuracy: 0.7156\n"
     ]
    }
   ],
   "source": [
    "from tensorflow.keras.callbacks import EarlyStopping\n",
    "es = EarlyStopping(patience=5, restore_best_weights=True)\n",
    "with tf.device('/cpu:0'):\n",
    "    model = init_model()\n",
    "    history = model.fit(X_train, y_train, epochs=100, batch_size=32, callbacks=[es], validation_split=0.3)"
   ]
  },
  {
   "cell_type": "code",
   "execution_count": 54,
   "id": "3957bd7b",
   "metadata": {},
   "outputs": [
    {
     "data": {
      "image/png": "[encoded data removed]",
      "text/plain": [
       "<Figure size 432x288 with 1 Axes>"
      ]
     },
     "metadata": {
      "needs_background": "light"
     },
     "output_type": "display_data"
    }
   ],
   "source": [
    "plt.plot(history.history[\"loss\"], label=\"Loss\")\n",
    "plt.plot(history.history[\"val_loss\"], label=\"Val Loss\")\n",
    "plt.legend();"
   ]
  },
  {
   "cell_type": "code",
   "execution_count": 55,
   "id": "0d8e3efa",
   "metadata": {},
   "outputs": [
    {
     "name": "stdout",
     "output_type": "stream",
     "text": [
      "152/152 [==============================] - 1s 8ms/step - loss: 0.5504 - accuracy: 0.7158\n",
      "[0.5503585934638977, 0.715791642665863]\n"
     ]
    }
   ],
   "source": [
    "with tf.device('/cpu:0'):\n",
    "    res = model.evaluate(X_test, y_test)\n",
    "    print(res)"
   ]
  },
  {
   "cell_type": "markdown",
   "id": "86e3f0fa",
   "metadata": {},
   "source": [
    "72% accuracy on the test set is better than the baseline (50% on the balanced set). The loss on the train set is still quite high so I want to see if we can get the model to overfit on the train set first and then pull back from there; this first model might be too simple."
   ]
  },
  {
   "cell_type": "code",
   "execution_count": 59,
   "id": "f3aba248",
   "metadata": {},
   "outputs": [
    {
     "name": "stdout",
     "output_type": "stream",
     "text": [
      "Epoch 1/100\n",
      "247/247 [==============================] - 37s 103ms/step - loss: 0.6596 - accuracy: 0.6100 - val_loss: 0.6186 - val_accuracy: 0.6713\n",
      "Epoch 2/100\n",
      "247/247 [==============================] - 15s 61ms/step - loss: 0.5959 - accuracy: 0.6857 - val_loss: 0.5945 - val_accuracy: 0.6896\n",
      "Epoch 3/100\n",
      "247/247 [==============================] - 16s 63ms/step - loss: 0.5761 - accuracy: 0.6984 - val_loss: 0.5840 - val_accuracy: 0.6896\n",
      "Epoch 4/100\n",
      "247/247 [==============================] - 17s 71ms/step - loss: 0.5673 - accuracy: 0.7059 - val_loss: 0.5787 - val_accuracy: 0.6952\n",
      "Epoch 5/100\n",
      "247/247 [==============================] - 16s 63ms/step - loss: 0.5584 - accuracy: 0.7090 - val_loss: 0.5746 - val_accuracy: 0.7029\n",
      "Epoch 6/100\n",
      "247/247 [==============================] - 19s 79ms/step - loss: 0.5577 - accuracy: 0.7089 - val_loss: 0.5740 - val_accuracy: 0.6970\n",
      "Epoch 7/100\n",
      "247/247 [==============================] - 20s 79ms/step - loss: 0.5531 - accuracy: 0.7134 - val_loss: 0.5678 - val_accuracy: 0.7032\n",
      "Epoch 8/100\n",
      "247/247 [==============================] - 19s 79ms/step - loss: 0.5489 - accuracy: 0.7192 - val_loss: 0.5770 - val_accuracy: 0.7026\n",
      "Epoch 9/100\n",
      "247/247 [==============================] - 17s 67ms/step - loss: 0.5496 - accuracy: 0.7138 - val_loss: 0.5625 - val_accuracy: 0.7100\n",
      "Epoch 10/100\n",
      "247/247 [==============================] - 15s 62ms/step - loss: 0.5425 - accuracy: 0.7215 - val_loss: 0.5643 - val_accuracy: 0.7103\n",
      "Epoch 11/100\n",
      "247/247 [==============================] - 17s 69ms/step - loss: 0.5414 - accuracy: 0.7220 - val_loss: 0.5627 - val_accuracy: 0.7053\n",
      "Epoch 12/100\n",
      "247/247 [==============================] - 17s 68ms/step - loss: 0.5386 - accuracy: 0.7247 - val_loss: 0.5651 - val_accuracy: 0.7053\n",
      "Epoch 13/100\n",
      "247/247 [==============================] - 15s 60ms/step - loss: 0.5365 - accuracy: 0.7278 - val_loss: 0.5589 - val_accuracy: 0.7112\n",
      "Epoch 14/100\n",
      "247/247 [==============================] - 16s 65ms/step - loss: 0.5360 - accuracy: 0.7257 - val_loss: 0.5578 - val_accuracy: 0.7138\n",
      "Epoch 15/100\n",
      "247/247 [==============================] - 16s 66ms/step - loss: 0.5299 - accuracy: 0.7284 - val_loss: 0.5640 - val_accuracy: 0.7126\n",
      "Epoch 16/100\n",
      "247/247 [==============================] - 17s 70ms/step - loss: 0.5295 - accuracy: 0.7282 - val_loss: 0.5571 - val_accuracy: 0.7162\n",
      "Epoch 17/100\n",
      "247/247 [==============================] - 20s 82ms/step - loss: 0.5259 - accuracy: 0.7327 - val_loss: 0.5560 - val_accuracy: 0.7094\n",
      "Epoch 18/100\n",
      "247/247 [==============================] - 18s 75ms/step - loss: 0.5234 - accuracy: 0.7348 - val_loss: 0.5567 - val_accuracy: 0.7091\n",
      "Epoch 19/100\n",
      "247/247 [==============================] - 16s 64ms/step - loss: 0.5201 - accuracy: 0.7315 - val_loss: 0.5543 - val_accuracy: 0.7191\n",
      "Epoch 20/100\n",
      "247/247 [==============================] - 17s 68ms/step - loss: 0.5172 - accuracy: 0.7390 - val_loss: 0.5648 - val_accuracy: 0.7064\n",
      "Epoch 21/100\n",
      "247/247 [==============================] - 18s 74ms/step - loss: 0.5148 - accuracy: 0.7418 - val_loss: 0.5522 - val_accuracy: 0.7183\n",
      "Epoch 22/100\n",
      "247/247 [==============================] - 18s 75ms/step - loss: 0.5143 - accuracy: 0.7413 - val_loss: 0.5522 - val_accuracy: 0.7253\n",
      "Epoch 23/100\n",
      "247/247 [==============================] - 16s 67ms/step - loss: 0.5096 - accuracy: 0.7462 - val_loss: 0.5543 - val_accuracy: 0.7191\n",
      "Epoch 24/100\n",
      "247/247 [==============================] - 18s 74ms/step - loss: 0.5066 - accuracy: 0.7500 - val_loss: 0.5539 - val_accuracy: 0.7224\n",
      "Epoch 25/100\n",
      "247/247 [==============================] - 17s 68ms/step - loss: 0.5025 - accuracy: 0.7532 - val_loss: 0.5554 - val_accuracy: 0.7209\n",
      "Epoch 26/100\n",
      "247/247 [==============================] - 16s 64ms/step - loss: 0.5013 - accuracy: 0.7535 - val_loss: 0.5652 - val_accuracy: 0.7150\n"
     ]
    }
   ],
   "source": [
    "es = EarlyStopping(patience=5, restore_best_weights=True)\n",
    "with tf.device('/cpu:0'):\n",
    "    model = Sequential()\n",
    "    model.add(layers.Masking(mask_value=0.0, input_shape=(33, 50)))\n",
    "    model.add(layers.LSTM(10, activation='tanh', return_sequences=True))\n",
    "    model.add(layers.LSTM(10, activation='tanh'))\n",
    "    model.add(layers.Dense(15, activation='relu'))\n",
    "    model.add(layers.Dense(10, activation='relu'))\n",
    "    model.add(layers.Dense(1, activation='sigmoid'))\n",
    "\n",
    "    model.compile(loss='binary_crossentropy',\n",
    "                  optimizer='adam',\n",
    "                  metrics=['accuracy'])\n",
    "    history = model.fit(X_train, y_train, epochs=100, batch_size=32, callbacks=[es], validation_split=0.3)"
   ]
  },
  {
   "cell_type": "code",
   "execution_count": 60,
   "id": "42270f23",
   "metadata": {},
   "outputs": [
    {
     "data": {
      "image/png": "[encoded data removed]",
      "text/plain": [
       "<Figure size 432x288 with 1 Axes>"
      ]
     },
     "metadata": {
      "needs_background": "light"
     },
     "output_type": "display_data"
    }
   ],
   "source": [
    "plt.plot(history.history[\"loss\"], label=\"Loss\")\n",
    "plt.plot(history.history[\"val_loss\"], label=\"Val Loss\")\n",
    "plt.legend();"
   ]
  },
  {
   "cell_type": "code",
   "execution_count": 61,
   "id": "002aa844",
   "metadata": {},
   "outputs": [
    {
     "name": "stdout",
     "output_type": "stream",
     "text": [
      "152/152 [==============================] - 2s 15ms/step - loss: 0.5502 - accuracy: 0.7193\n",
      "[0.5501821637153625, 0.7193055152893066]\n"
     ]
    }
   ],
   "source": [
    "with tf.device('/cpu:0'):\n",
    "    res = model.evaluate(X_test, y_test)\n",
    "    print(res)"
   ]
  },
  {
   "cell_type": "markdown",
   "id": "074ea668",
   "metadata": {},
   "source": [
    "Increased test performance, but still haven't ended up overfitting on the test set so network might not be complex enough. Increase learning rate to converge faster."
   ]
  },
  {
   "cell_type": "code",
   "execution_count": 119,
   "id": "6ff28b3f",
   "metadata": {
    "scrolled": true
   },
   "outputs": [
    {
     "name": "stderr",
     "output_type": "stream",
     "text": [
      "2023/08/14 22:31:43 WARNING mlflow.utils.autologging_utils: You are using an unsupported version of tensorflow. If you encounter errors during autologging, try upgrading / downgrading tensorflow to a supported version, or try upgrading MLflow.\n",
      "2023-08-14 22:32:45.956509: W tensorflow/tsl/framework/cpu_allocator_impl.cc:83] Allocation of 1095689000 exceeds 10% of free system memory.\n",
      "2023/08/14 22:32:46 WARNING mlflow.utils.autologging_utils: Encountered unexpected error during autologging: Changing param values is not allowed. Param with key='opt_learning_rate' was already logged with value='0.01' for run ID='4d38ff73071d4ff18bc7dfe01e7113c0'. Attempted logging new value '0.0008'.\n",
      "\n",
      "The cause of this error is typically due to repeated calls\n",
      "to an individual run_id event logging.\n",
      "\n",
      "Incorrect Example:\n",
      "---------------------------------------\n",
      "with mlflow.start_run():\n",
      "    mlflow.log_param(\"depth\", 3)\n",
      "    mlflow.log_param(\"depth\", 5)\n",
      "---------------------------------------\n",
      "\n",
      "Which will throw an MlflowException for overwriting a\n",
      "logged parameter.\n",
      "\n",
      "Correct Example:\n",
      "---------------------------------------\n",
      "with mlflow.start_run():\n",
      "    with mlflow.start_run(nested=True):\n",
      "        mlflow.log_param(\"depth\", 3)\n",
      "    with mlflow.start_run(nested=True):\n",
      "        mlflow.log_param(\"depth\", 5)\n",
      "---------------------------------------\n",
      "\n",
      "Which will create a new nested run for each individual\n",
      "model and prevent parameter key collisions within the\n",
      "tracking store.'\n"
     ]
    },
    {
     "name": "stdout",
     "output_type": "stream",
     "text": [
      "Epoch 1/100\n",
      "4892/4892 [==============================] - 319s 63ms/step - loss: 0.5524 - accuracy: 0.7122 - val_loss: 0.5263 - val_accuracy: 0.7335\n",
      "Epoch 2/100\n",
      "4892/4892 [==============================] - 247s 50ms/step - loss: 0.5129 - accuracy: 0.7432 - val_loss: 0.4992 - val_accuracy: 0.7542\n",
      "Epoch 3/100\n",
      "4892/4892 [==============================] - 237s 48ms/step - loss: 0.4940 - accuracy: 0.7575 - val_loss: 0.5012 - val_accuracy: 0.7583\n",
      "Epoch 4/100\n",
      "4892/4892 [==============================] - 227s 46ms/step - loss: 0.4834 - accuracy: 0.7642 - val_loss: 0.4823 - val_accuracy: 0.7676\n",
      "Epoch 5/100\n",
      "4892/4892 [==============================] - 226s 46ms/step - loss: 0.4756 - accuracy: 0.7696 - val_loss: 0.4755 - val_accuracy: 0.7713\n",
      "Epoch 6/100\n",
      "4892/4892 [==============================] - 230s 47ms/step - loss: 0.4703 - accuracy: 0.7737 - val_loss: 0.4898 - val_accuracy: 0.7635\n",
      "Epoch 7/100\n",
      "4892/4892 [==============================] - 260s 53ms/step - loss: 0.4647 - accuracy: 0.7769 - val_loss: 0.4683 - val_accuracy: 0.7757\n",
      "Epoch 8/100\n",
      "4892/4892 [==============================] - 243s 50ms/step - loss: 0.4600 - accuracy: 0.7793 - val_loss: 0.4646 - val_accuracy: 0.7806\n",
      "Epoch 9/100\n",
      "4892/4892 [==============================] - 265s 54ms/step - loss: 0.4562 - accuracy: 0.7820 - val_loss: 0.4630 - val_accuracy: 0.7795\n",
      "Epoch 10/100\n",
      "4892/4892 [==============================] - 243s 50ms/step - loss: 0.4521 - accuracy: 0.7847 - val_loss: 0.4644 - val_accuracy: 0.7816\n",
      "Epoch 11/100\n",
      "4892/4892 [==============================] - 244s 50ms/step - loss: 0.4483 - accuracy: 0.7868 - val_loss: 0.4575 - val_accuracy: 0.7853\n",
      "Epoch 12/100\n",
      "4892/4892 [==============================] - 234s 48ms/step - loss: 0.4455 - accuracy: 0.7876 - val_loss: 0.4577 - val_accuracy: 0.7821\n",
      "Epoch 13/100\n",
      "4892/4892 [==============================] - 235s 48ms/step - loss: 0.4421 - accuracy: 0.7894 - val_loss: 0.4534 - val_accuracy: 0.7855\n",
      "Epoch 14/100\n",
      "4892/4892 [==============================] - 248s 51ms/step - loss: 0.4392 - accuracy: 0.7917 - val_loss: 0.4500 - val_accuracy: 0.7893\n",
      "Epoch 15/100\n",
      "4892/4892 [==============================] - 243s 50ms/step - loss: 0.4369 - accuracy: 0.7931 - val_loss: 0.4485 - val_accuracy: 0.7878\n",
      "Epoch 16/100\n",
      "4892/4892 [==============================] - 226s 46ms/step - loss: 0.4345 - accuracy: 0.7947 - val_loss: 0.4488 - val_accuracy: 0.7875\n",
      "Epoch 17/100\n",
      "4892/4892 [==============================] - 236s 48ms/step - loss: 0.4323 - accuracy: 0.7961 - val_loss: 0.4465 - val_accuracy: 0.7900\n",
      "Epoch 18/100\n",
      "4892/4892 [==============================] - 225s 46ms/step - loss: 0.4306 - accuracy: 0.7966 - val_loss: 0.4528 - val_accuracy: 0.7878\n",
      "Epoch 19/100\n",
      "4892/4892 [==============================] - 225s 46ms/step - loss: 0.4283 - accuracy: 0.7978 - val_loss: 0.4463 - val_accuracy: 0.7904\n",
      "Epoch 20/100\n",
      "4892/4892 [==============================] - 229s 47ms/step - loss: 0.4267 - accuracy: 0.7990 - val_loss: 0.4479 - val_accuracy: 0.7898\n",
      "Epoch 21/100\n",
      "4892/4892 [==============================] - 227s 46ms/step - loss: 0.4252 - accuracy: 0.8002 - val_loss: 0.4433 - val_accuracy: 0.7906\n",
      "Epoch 22/100\n",
      "4892/4892 [==============================] - 227s 46ms/step - loss: 0.4227 - accuracy: 0.8013 - val_loss: 0.4458 - val_accuracy: 0.7895\n",
      "Epoch 23/100\n",
      "4892/4892 [==============================] - 236s 48ms/step - loss: 0.4217 - accuracy: 0.8023 - val_loss: 0.4460 - val_accuracy: 0.7927\n",
      "Epoch 24/100\n",
      "4892/4892 [==============================] - 229s 47ms/step - loss: 0.4200 - accuracy: 0.8032 - val_loss: 0.4469 - val_accuracy: 0.7912\n",
      "Epoch 25/100\n",
      "4892/4892 [==============================] - 231s 47ms/step - loss: 0.4183 - accuracy: 0.8047 - val_loss: 0.4501 - val_accuracy: 0.7924\n",
      "Epoch 26/100\n",
      "4892/4892 [==============================] - 221s 45ms/step - loss: 0.4169 - accuracy: 0.8052 - val_loss: 0.4436 - val_accuracy: 0.7942\n",
      "INFO:tensorflow:Assets written to: /tmp/tmpwo91cl2x/model/data/model/assets\n"
     ]
    },
    {
     "name": "stderr",
     "output_type": "stream",
     "text": [
      "INFO:tensorflow:Assets written to: /tmp/tmpwo91cl2x/model/data/model/assets\n",
      "2023/08/15 00:17:10 WARNING mlflow.utils.autologging_utils: Encountered unexpected error during autologging: module 'tensorflow.keras' has no attribute '__version__'\n"
     ]
    }
   ],
   "source": [
    "from tensorflow.keras.optimizers import Adam\n",
    "mlflow.tensorflow.autolog()\n",
    "es = EarlyStopping(patience=5, restore_best_weights=True)\n",
    "with tf.device('/cpu:0'):\n",
    "    model = Sequential()\n",
    "    model.add(layers.Masking(mask_value=0.0, input_shape=(35, 50)))\n",
    "    model.add(layers.LSTM(20, activation='tanh', return_sequences=True))\n",
    "    model.add(layers.LSTM(20, activation='tanh'))\n",
    "    model.add(layers.Dense(50, activation='relu'))\n",
    "    model.add(layers.Dense(50, activation='relu'))\n",
    "    model.add(layers.Dense(25, activation='relu'))\n",
    "    model.add(layers.Dense(1, activation='sigmoid'))\n",
    "    optimizer = Adam(learning_rate=0.0008)\n",
    "    model.compile(loss='binary_crossentropy',\n",
    "                  optimizer=optimizer,\n",
    "                  metrics=['accuracy'])\n",
    "    history = model.fit(X_train, y_train, epochs=100, batch_size=32, callbacks=[es], validation_split=0.3)\n",
    "    "
   ]
  },
  {
   "cell_type": "code",
   "execution_count": 121,
   "id": "e1fd0932",
   "metadata": {},
   "outputs": [
    {
     "data": {
      "image/png": "[encoded data removed]",
      "text/plain": [
       "<Figure size 432x288 with 1 Axes>"
      ]
     },
     "metadata": {
      "needs_background": "light"
     },
     "output_type": "display_data"
    }
   ],
   "source": [
    "plt.plot(history.history[\"loss\"], label=\"Loss\")\n",
    "plt.plot(history.history[\"val_loss\"], label=\"Val Loss\")\n",
    "plt.legend();"
   ]
  },
  {
   "cell_type": "code",
   "execution_count": 122,
   "id": "80a2b056",
   "metadata": {},
   "outputs": [
    {
     "name": "stdout",
     "output_type": "stream",
     "text": [
      "2995/2995 [==============================] - 36s 12ms/step - loss: 0.4446 - accuracy: 0.7895\n",
      "[0.4446370601654053, 0.7895192503929138]\n"
     ]
    }
   ],
   "source": [
    "with tf.device('/cpu:0'):\n",
    "    res = model.evaluate(X_test, y_test)\n",
    "    print(res)"
   ]
  },
  {
   "cell_type": "code",
   "execution_count": 120,
   "id": "ce4c8e4d",
   "metadata": {},
   "outputs": [],
   "source": [
    "model.save(\"twitter_lstm_2.keras\")"
   ]
  },
  {
   "cell_type": "code",
   "execution_count": 111,
   "id": "7a4ef484",
   "metadata": {},
   "outputs": [
    {
     "data": {
      "text/plain": [
       "(1, 35, 50)"
      ]
     },
     "execution_count": 111,
     "metadata": {},
     "output_type": "execute_result"
    }
   ],
   "source": [
    "X_test[0:1,:, :].shape"
   ]
  },
  {
   "cell_type": "code",
   "execution_count": 113,
   "id": "992356d6",
   "metadata": {},
   "outputs": [
    {
     "name": "stdout",
     "output_type": "stream",
     "text": [
      "1/1 [==============================] - 7s 7s/step\n"
     ]
    }
   ],
   "source": [
    "with tf.device('/cpu:0'):\n",
    "    prediction = model.predict(X_test[0:1, :, :])"
   ]
  },
  {
   "cell_type": "code",
   "execution_count": 118,
   "id": "e2734156",
   "metadata": {},
   "outputs": [
    {
     "data": {
      "text/plain": [
       "0.5355266332626343"
      ]
     },
     "execution_count": 118,
     "metadata": {},
     "output_type": "execute_result"
    }
   ],
   "source": [
    "float(prediction[0,0])"
   ]
  },
  {
   "cell_type": "markdown",
   "id": "37208d9a",
   "metadata": {},
   "source": [
    "Consistently decreases loss on the train set. With more epochs and no early stopping, it will end up overfitting. Going to reduce learning rate a bit, and remove one of the layers."
   ]
  },
  {
   "cell_type": "code",
   "execution_count": 65,
   "id": "ac64a88b",
   "metadata": {},
   "outputs": [
    {
     "name": "stdout",
     "output_type": "stream",
     "text": [
      "Epoch 1/100\n",
      "247/247 [==============================] - 31s 102ms/step - loss: 0.6095 - accuracy: 0.6649 - val_loss: 0.5766 - val_accuracy: 0.7002\n",
      "Epoch 2/100\n",
      "247/247 [==============================] - 8s 34ms/step - loss: 0.5670 - accuracy: 0.7076 - val_loss: 0.5855 - val_accuracy: 0.6929\n",
      "Epoch 3/100\n",
      "247/247 [==============================] - 8s 34ms/step - loss: 0.5470 - accuracy: 0.7171 - val_loss: 0.5554 - val_accuracy: 0.7100\n",
      "Epoch 4/100\n",
      "247/247 [==============================] - 10s 41ms/step - loss: 0.5334 - accuracy: 0.7281 - val_loss: 0.5485 - val_accuracy: 0.7259\n",
      "Epoch 5/100\n",
      "247/247 [==============================] - 8s 32ms/step - loss: 0.5205 - accuracy: 0.7371 - val_loss: 0.5464 - val_accuracy: 0.7292\n",
      "Epoch 6/100\n",
      "247/247 [==============================] - 8s 32ms/step - loss: 0.5049 - accuracy: 0.7477 - val_loss: 0.5389 - val_accuracy: 0.7324\n",
      "Epoch 7/100\n",
      "247/247 [==============================] - 9s 38ms/step - loss: 0.4936 - accuracy: 0.7516 - val_loss: 0.5498 - val_accuracy: 0.7333\n",
      "Epoch 8/100\n",
      "247/247 [==============================] - 8s 34ms/step - loss: 0.4771 - accuracy: 0.7658 - val_loss: 0.5358 - val_accuracy: 0.7386\n",
      "Epoch 9/100\n",
      "247/247 [==============================] - 8s 34ms/step - loss: 0.4698 - accuracy: 0.7720 - val_loss: 0.5556 - val_accuracy: 0.7301\n",
      "Epoch 10/100\n",
      "247/247 [==============================] - 11s 45ms/step - loss: 0.4514 - accuracy: 0.7828 - val_loss: 0.5656 - val_accuracy: 0.7377\n",
      "Epoch 11/100\n",
      "247/247 [==============================] - 10s 41ms/step - loss: 0.4429 - accuracy: 0.7847 - val_loss: 0.5675 - val_accuracy: 0.7247\n",
      "Epoch 12/100\n",
      "247/247 [==============================] - 10s 42ms/step - loss: 0.4232 - accuracy: 0.7966 - val_loss: 0.5676 - val_accuracy: 0.7304\n",
      "Epoch 13/100\n",
      "247/247 [==============================] - 10s 40ms/step - loss: 0.4108 - accuracy: 0.8027 - val_loss: 0.5965 - val_accuracy: 0.7342\n",
      "Epoch 14/100\n",
      "247/247 [==============================] - 11s 46ms/step - loss: 0.3968 - accuracy: 0.8096 - val_loss: 0.5970 - val_accuracy: 0.7345\n",
      "Epoch 15/100\n",
      "247/247 [==============================] - 9s 37ms/step - loss: 0.3838 - accuracy: 0.8205 - val_loss: 0.6393 - val_accuracy: 0.7342\n",
      "Epoch 16/100\n",
      "247/247 [==============================] - 11s 45ms/step - loss: 0.3700 - accuracy: 0.8248 - val_loss: 0.6902 - val_accuracy: 0.7274\n",
      "Epoch 17/100\n",
      "247/247 [==============================] - 8s 32ms/step - loss: 0.3630 - accuracy: 0.8267 - val_loss: 0.6798 - val_accuracy: 0.7224\n",
      "Epoch 18/100\n",
      "247/247 [==============================] - 10s 42ms/step - loss: 0.3489 - accuracy: 0.8406 - val_loss: 0.6846 - val_accuracy: 0.7221\n"
     ]
    }
   ],
   "source": [
    "from tensorflow.keras.optimizers import Adam\n",
    "es = EarlyStopping(patience=10, restore_best_weights=True)\n",
    "with tf.device('/cpu:0'):\n",
    "    model = Sequential()\n",
    "    model.add(layers.Masking(mask_value=0.0, input_shape=(33, 50)))\n",
    "    model.add(layers.LSTM(20, activation='tanh'))\n",
    "    model.add(layers.Dense(15, activation='relu'))\n",
    "    model.add(layers.Dense(10, activation='relu'))\n",
    "    model.add(layers.Dense(1, activation='sigmoid'))\n",
    "    optimizer = Adam(learning_rate=0.005)\n",
    "    model.compile(loss='binary_crossentropy',\n",
    "                  optimizer=optimizer,\n",
    "                  metrics=['accuracy'])\n",
    "    history = model.fit(X_train, y_train, \n",
    "                        epochs=100, batch_size=32, callbacks=[es], validation_split=0.3)"
   ]
  },
  {
   "cell_type": "code",
   "execution_count": 66,
   "id": "1d685899",
   "metadata": {
    "scrolled": true
   },
   "outputs": [
    {
     "data": {
      "image/png": "[encoded data removed]",
      "text/plain": [
       "<Figure size 432x288 with 1 Axes>"
      ]
     },
     "metadata": {
      "needs_background": "light"
     },
     "output_type": "display_data"
    }
   ],
   "source": [
    "plt.plot(history.history[\"loss\"], label=\"Loss\")\n",
    "plt.plot(history.history[\"val_loss\"], label=\"Val Loss\")\n",
    "plt.legend();"
   ]
  },
  {
   "cell_type": "code",
   "execution_count": 67,
   "id": "33cbfe29",
   "metadata": {},
   "outputs": [
    {
     "name": "stdout",
     "output_type": "stream",
     "text": [
      "152/152 [==============================] - 8s 9ms/step - loss: 0.5406 - accuracy: 0.7261\n",
      "[0.5406022667884827, 0.726126492023468]\n"
     ]
    }
   ],
   "source": [
    "with tf.device('/cpu:0'):\n",
    "    res = model.evaluate(X_test, y_test)\n",
    "    print(res)"
   ]
  },
  {
   "cell_type": "code",
   "execution_count": 74,
   "id": "ceb3c4ca",
   "metadata": {},
   "outputs": [
    {
     "name": "stderr",
     "output_type": "stream",
     "text": [
      "2023/08/14 18:36:57 WARNING mlflow.utils.autologging_utils: You are using an unsupported version of tensorflow. If you encounter errors during autologging, try upgrading / downgrading tensorflow to a supported version, or try upgrading MLflow.\n",
      "2023/08/14 18:36:58 INFO mlflow.utils.autologging_utils: Created MLflow autologging run with ID '1db815ae0bfd45638394c6de884b9332', which will track hyperparameters, performance metrics, model artifacts, and lineage information for the current tensorflow workflow\n"
     ]
    },
    {
     "name": "stdout",
     "output_type": "stream",
     "text": [
      "Epoch 1/100\n",
      "247/247 [==============================] - 20s 56ms/step - loss: 0.6685 - accuracy: 0.6011 - val_loss: 0.6320 - val_accuracy: 0.6462\n",
      "Epoch 2/100\n",
      "247/247 [==============================] - 12s 47ms/step - loss: 0.5984 - accuracy: 0.6838 - val_loss: 0.5917 - val_accuracy: 0.6855\n",
      "Epoch 3/100\n",
      "247/247 [==============================] - 12s 49ms/step - loss: 0.5778 - accuracy: 0.6949 - val_loss: 0.5761 - val_accuracy: 0.6973\n",
      "Epoch 4/100\n",
      "247/247 [==============================] - 13s 51ms/step - loss: 0.5640 - accuracy: 0.7063 - val_loss: 0.5735 - val_accuracy: 0.7064\n",
      "Epoch 5/100\n",
      "247/247 [==============================] - 12s 48ms/step - loss: 0.5578 - accuracy: 0.7105 - val_loss: 0.5658 - val_accuracy: 0.6976\n",
      "Epoch 6/100\n",
      "247/247 [==============================] - 12s 51ms/step - loss: 0.5520 - accuracy: 0.7152 - val_loss: 0.5668 - val_accuracy: 0.7017\n",
      "Epoch 7/100\n",
      "247/247 [==============================] - 12s 50ms/step - loss: 0.5495 - accuracy: 0.7128 - val_loss: 0.5695 - val_accuracy: 0.6934\n",
      "Epoch 8/100\n",
      "247/247 [==============================] - 11s 44ms/step - loss: 0.5447 - accuracy: 0.7170 - val_loss: 0.5615 - val_accuracy: 0.7085\n",
      "Epoch 9/100\n",
      "247/247 [==============================] - 11s 43ms/step - loss: 0.5419 - accuracy: 0.7215 - val_loss: 0.5577 - val_accuracy: 0.7094\n",
      "Epoch 10/100\n",
      "247/247 [==============================] - 10s 42ms/step - loss: 0.5390 - accuracy: 0.7247 - val_loss: 0.5604 - val_accuracy: 0.7050\n",
      "Epoch 11/100\n",
      "247/247 [==============================] - 10s 42ms/step - loss: 0.5354 - accuracy: 0.7230 - val_loss: 0.5609 - val_accuracy: 0.7100\n",
      "Epoch 12/100\n",
      "247/247 [==============================] - 10s 42ms/step - loss: 0.5314 - accuracy: 0.7300 - val_loss: 0.5626 - val_accuracy: 0.7100\n",
      "Epoch 13/100\n",
      "247/247 [==============================] - 10s 42ms/step - loss: 0.5283 - accuracy: 0.7303 - val_loss: 0.5527 - val_accuracy: 0.7120\n",
      "Epoch 14/100\n",
      "247/247 [==============================] - 12s 47ms/step - loss: 0.5243 - accuracy: 0.7363 - val_loss: 0.5590 - val_accuracy: 0.7120\n",
      "Epoch 15/100\n",
      "247/247 [==============================] - 10s 42ms/step - loss: 0.5230 - accuracy: 0.7351 - val_loss: 0.5546 - val_accuracy: 0.7165\n",
      "Epoch 16/100\n",
      "247/247 [==============================] - 10s 42ms/step - loss: 0.5176 - accuracy: 0.7389 - val_loss: 0.5549 - val_accuracy: 0.7180\n",
      "Epoch 17/100\n",
      "247/247 [==============================] - 10s 42ms/step - loss: 0.5138 - accuracy: 0.7404 - val_loss: 0.5498 - val_accuracy: 0.7138\n",
      "Epoch 18/100\n",
      "247/247 [==============================] - 11s 44ms/step - loss: 0.5099 - accuracy: 0.7465 - val_loss: 0.5642 - val_accuracy: 0.7120\n",
      "Epoch 19/100\n",
      "247/247 [==============================] - 11s 46ms/step - loss: 0.5044 - accuracy: 0.7487 - val_loss: 0.5469 - val_accuracy: 0.7185\n",
      "Epoch 20/100\n",
      "247/247 [==============================] - 11s 46ms/step - loss: 0.5002 - accuracy: 0.7528 - val_loss: 0.5686 - val_accuracy: 0.7120\n",
      "Epoch 21/100\n",
      "247/247 [==============================] - 12s 47ms/step - loss: 0.4968 - accuracy: 0.7533 - val_loss: 0.5630 - val_accuracy: 0.7141\n",
      "Epoch 22/100\n",
      "247/247 [==============================] - 11s 46ms/step - loss: 0.4922 - accuracy: 0.7594 - val_loss: 0.5543 - val_accuracy: 0.7247\n",
      "Epoch 23/100\n",
      "247/247 [==============================] - 11s 45ms/step - loss: 0.4856 - accuracy: 0.7623 - val_loss: 0.5640 - val_accuracy: 0.7185\n",
      "Epoch 24/100\n",
      "247/247 [==============================] - 11s 44ms/step - loss: 0.4826 - accuracy: 0.7644 - val_loss: 0.5612 - val_accuracy: 0.7206\n",
      "Epoch 25/100\n",
      "247/247 [==============================] - 10s 42ms/step - loss: 0.4791 - accuracy: 0.7663 - val_loss: 0.5768 - val_accuracy: 0.7153\n",
      "Epoch 26/100\n",
      "247/247 [==============================] - 11s 43ms/step - loss: 0.4733 - accuracy: 0.7699 - val_loss: 0.5534 - val_accuracy: 0.7191\n",
      "Epoch 27/100\n",
      "247/247 [==============================] - 11s 44ms/step - loss: 0.4676 - accuracy: 0.7782 - val_loss: 0.5570 - val_accuracy: 0.7289\n",
      "Epoch 28/100\n",
      "247/247 [==============================] - 11s 46ms/step - loss: 0.4640 - accuracy: 0.7771 - val_loss: 0.5546 - val_accuracy: 0.7230\n",
      "Epoch 29/100\n",
      "247/247 [==============================] - 11s 46ms/step - loss: 0.4587 - accuracy: 0.7756 - val_loss: 0.5869 - val_accuracy: 0.7203\n",
      "INFO:tensorflow:Assets written to: /tmp/tmp8h6l650a/model/data/model/assets\n"
     ]
    },
    {
     "name": "stderr",
     "output_type": "stream",
     "text": [
      "INFO:tensorflow:Assets written to: /tmp/tmp8h6l650a/model/data/model/assets\n",
      "2023/08/14 18:42:39 WARNING mlflow.utils.autologging_utils: Encountered unexpected error during autologging: module 'tensorflow.keras' has no attribute '__version__'\n"
     ]
    }
   ],
   "source": [
    "import mlflow\n",
    "\n",
    "mlflow.tensorflow.autolog()\n",
    "es = EarlyStopping(patience=10, restore_best_weights=True)\n",
    "with tf.device('/cpu:0'):\n",
    "    model = Sequential()\n",
    "    model.add(layers.Masking(mask_value=0.0, input_shape=(33, 50)))\n",
    "    model.add(layers.LSTM(20, activation='tanh', return_sequences=True))\n",
    "    model.add(layers.LSTM(20, activation='tanh'))\n",
    "    model.add(layers.Dense(15, activation='relu'))\n",
    "    model.add(layers.Dense(10, activation='relu'))\n",
    "    model.add(layers.Dense(1, activation='sigmoid'))\n",
    "    optimizer = Adam(learning_rate=0.001)\n",
    "    model.compile(loss='binary_crossentropy',\n",
    "                  optimizer=optimizer,\n",
    "                  metrics=['accuracy'])\n",
    "    history = model.fit(X_train, y_train, epochs=100, batch_size=32, callbacks=[es], validation_split=0.3)"
   ]
  },
  {
   "cell_type": "code",
   "execution_count": 75,
   "id": "ca8acd8d",
   "metadata": {},
   "outputs": [
    {
     "data": {
      "image/png": "[encoded data removed]",
      "text/plain": [
       "<Figure size 432x288 with 1 Axes>"
      ]
     },
     "metadata": {
      "needs_background": "light"
     },
     "output_type": "display_data"
    }
   ],
   "source": [
    "plt.plot(history.history[\"loss\"], label=\"Loss\")\n",
    "plt.plot(history.history[\"val_loss\"], label=\"Val Loss\")\n",
    "plt.legend();"
   ]
  },
  {
   "cell_type": "code",
   "execution_count": 76,
   "id": "f7f6031d",
   "metadata": {},
   "outputs": [
    {
     "name": "stdout",
     "output_type": "stream",
     "text": [
      "152/152 [==============================] - 2s 13ms/step - loss: 0.5496 - accuracy: 0.7201\n",
      "[0.5496038794517517, 0.7201322913169861]\n"
     ]
    }
   ],
   "source": [
    "with tf.device('/cpu:0'):\n",
    "    res = model.evaluate(X_test, y_test)\n",
    "    print(res)"
   ]
  },
  {
   "cell_type": "code",
   "execution_count": 84,
   "id": "afa6ea1a",
   "metadata": {},
   "outputs": [
    {
     "name": "stderr",
     "output_type": "stream",
     "text": [
      "2023/08/14 20:13:04 WARNING mlflow.utils.autologging_utils: You are using an unsupported version of tensorflow. If you encounter errors during autologging, try upgrading / downgrading tensorflow to a supported version, or try upgrading MLflow.\n",
      "2023/08/14 20:13:11 INFO mlflow.utils.autologging_utils: Created MLflow autologging run with ID '5bef33a60c01468bb40a96f22e0c7b15', which will track hyperparameters, performance metrics, model artifacts, and lineage information for the current tensorflow workflow\n"
     ]
    },
    {
     "name": "stdout",
     "output_type": "stream",
     "text": [
      "Epoch 1/100\n",
      "247/247 [==============================] - 13s 40ms/step - loss: 0.6689 - accuracy: 0.5708 - val_loss: 0.6310 - val_accuracy: 0.6660\n",
      "Epoch 2/100\n",
      "247/247 [==============================] - 9s 36ms/step - loss: 0.5986 - accuracy: 0.6790 - val_loss: 0.6132 - val_accuracy: 0.6689\n",
      "Epoch 3/100\n",
      "247/247 [==============================] - 9s 37ms/step - loss: 0.5759 - accuracy: 0.6977 - val_loss: 0.5999 - val_accuracy: 0.6914\n",
      "Epoch 4/100\n",
      "247/247 [==============================] - 9s 37ms/step - loss: 0.5659 - accuracy: 0.7052 - val_loss: 0.5775 - val_accuracy: 0.6940\n",
      "Epoch 5/100\n",
      "247/247 [==============================] - 9s 37ms/step - loss: 0.5580 - accuracy: 0.7158 - val_loss: 0.5927 - val_accuracy: 0.6994\n",
      "Epoch 6/100\n",
      "247/247 [==============================] - 10s 39ms/step - loss: 0.5467 - accuracy: 0.7195 - val_loss: 0.5623 - val_accuracy: 0.7082\n",
      "Epoch 7/100\n",
      "247/247 [==============================] - 9s 36ms/step - loss: 0.5327 - accuracy: 0.7289 - val_loss: 0.5878 - val_accuracy: 0.7073\n",
      "Epoch 8/100\n",
      "247/247 [==============================] - 9s 35ms/step - loss: 0.5246 - accuracy: 0.7322 - val_loss: 0.5599 - val_accuracy: 0.7100\n",
      "Epoch 9/100\n",
      "247/247 [==============================] - 9s 38ms/step - loss: 0.5143 - accuracy: 0.7447 - val_loss: 0.5481 - val_accuracy: 0.7129\n",
      "Epoch 10/100\n",
      "247/247 [==============================] - 9s 36ms/step - loss: 0.5013 - accuracy: 0.7494 - val_loss: 0.5605 - val_accuracy: 0.7073\n",
      "Epoch 11/100\n",
      "247/247 [==============================] - 9s 35ms/step - loss: 0.4990 - accuracy: 0.7519 - val_loss: 0.5483 - val_accuracy: 0.7194\n",
      "Epoch 12/100\n",
      "247/247 [==============================] - 8s 31ms/step - loss: 0.4810 - accuracy: 0.7624 - val_loss: 0.5785 - val_accuracy: 0.7135\n",
      "Epoch 13/100\n",
      "247/247 [==============================] - 8s 30ms/step - loss: 0.4753 - accuracy: 0.7687 - val_loss: 0.5491 - val_accuracy: 0.7159\n",
      "Epoch 14/100\n",
      "247/247 [==============================] - 7s 28ms/step - loss: 0.4726 - accuracy: 0.7661 - val_loss: 0.5689 - val_accuracy: 0.7050\n",
      "INFO:tensorflow:Assets written to: /tmp/tmpsj74tqux/model/data/model/assets\n"
     ]
    },
    {
     "name": "stderr",
     "output_type": "stream",
     "text": [
      "INFO:tensorflow:Assets written to: /tmp/tmpsj74tqux/model/data/model/assets\n",
      "2023/08/14 20:15:23 WARNING mlflow.utils.autologging_utils: Encountered unexpected error during autologging: module 'tensorflow.keras' has no attribute '__version__'\n"
     ]
    }
   ],
   "source": [
    "from tensorflow.keras.optimizers import Adam\n",
    "mlflow.tensorflow.autolog()\n",
    "es = EarlyStopping(patience=5, restore_best_weights=True)\n",
    "with tf.device('/cpu:0'):\n",
    "    model = Sequential()\n",
    "    model.add(layers.Masking(mask_value=0.0, input_shape=(33, 50)))\n",
    "    model.add(layers.Conv1D(16, 3, activation=\"relu\"))\n",
    "    model.add(layers.LSTM(20, activation='tanh', return_sequences=True))\n",
    "    model.add(layers.LSTM(20, activation='tanh'))\n",
    "    model.add(layers.Dense(64, activation='relu'))\n",
    "    model.add(layers.Dense(64, activation='relu'))\n",
    "    model.add(layers.Dense(32, activation='relu'))\n",
    "    model.add(layers.Dense(1, activation='sigmoid'))\n",
    "    optimizer = Adam(learning_rate=0.0007)\n",
    "    model.compile(loss='binary_crossentropy',\n",
    "                  optimizer=optimizer,\n",
    "                  metrics=['accuracy'])\n",
    "    history = model.fit(X_train, y_train, epochs=100, batch_size=32, callbacks=[es], validation_split=0.3)"
   ]
  },
  {
   "cell_type": "code",
   "execution_count": 85,
   "id": "9b264a1e",
   "metadata": {},
   "outputs": [
    {
     "data": {
      "image/png": "[encoded data removed]",
      "text/plain": [
       "<Figure size 432x288 with 1 Axes>"
      ]
     },
     "metadata": {
      "needs_background": "light"
     },
     "output_type": "display_data"
    }
   ],
   "source": [
    "plt.plot(history.history[\"loss\"], label=\"Loss\")\n",
    "plt.plot(history.history[\"val_loss\"], label=\"Val Loss\")\n",
    "plt.legend();"
   ]
  },
  {
   "cell_type": "code",
   "execution_count": 86,
   "id": "b666895b",
   "metadata": {},
   "outputs": [
    {
     "name": "stdout",
     "output_type": "stream",
     "text": [
      "152/152 [==============================] - 2s 10ms/step - loss: 0.5427 - accuracy: 0.7201\n",
      "[0.5426676869392395, 0.7201322913169861]\n"
     ]
    }
   ],
   "source": [
    "with tf.device('/cpu:0'):\n",
    "    res = model.evaluate(X_test, y_test)\n",
    "    print(res)"
   ]
  }
 ],
 "metadata": {
  "kernelspec": {
   "display_name": "Python 3",
   "language": "python",
   "name": "python3"
  },
  "language_info": {
   "codemirror_mode": {
    "name": "ipython",
    "version": 3
   },
   "file_extension": ".py",
   "mimetype": "text/x-python",
   "name": "python",
   "nbconvert_exporter": "python",
   "pygments_lexer": "ipython3",
   "version": "3.8.12"
  },
  "toc": {
   "base_numbering": 1,
   "nav_menu": {},
   "number_sections": true,
   "sideBar": true,
   "skip_h1_title": false,
   "title_cell": "Table of Contents",
   "title_sidebar": "Contents",
   "toc_cell": false,
   "toc_position": {},
   "toc_section_display": true,
   "toc_window_display": false
  }
 },
 "nbformat": 4,
 "nbformat_minor": 5
}
